{
 "cells": [
  {
   "cell_type": "markdown",
   "metadata": {},
   "source": [
    "# Access phase"
   ]
  },
  {
   "cell_type": "code",
   "execution_count": 1,
   "metadata": {},
   "outputs": [],
   "source": [
    "###################################\n",
    "###################################\n",
    "# EXTRACTION DES DATAS OPENSESAME #\n",
    "###################################\n",
    "###################################\n",
    "import csv\n",
    "import numpy as np\n",
    "import matplotlib.pyplot as plt\n",
    "import os\n",
    "import seaborn as sns\n",
    "import cv2 \n",
    "import pandas as pd\n",
    "\n",
    "# note: in the codes, VD is used as an abbreviation of visual disengagement (= gaze aversion)\n",
    "\n",
    "#Change path to directory\n",
    "set_WD = os.getcwd() # get current work directory\n",
    "\n",
    "idd={'1':'P01','2':'P02','3':'P03','4':'P04','5':'P05', \\\n",
    "     '6':'P06','7':'P07','9':'P09','10':'P10','11':'P11', \\\n",
    "     '12':'P12','13':'P13','14':'P14','15':'P15','16':'P16', \\\n",
    "     '17':'P17','18':'P18', '19': 'P19', '20': 'P20', '21': 'P21', '22': 'P22', '23':'P23', '24':'P24', '25':'P25', '26':'P26', '27':'P27', \\\n",
    "     '28': 'P28', '29':'P29', '30':'P30', '31':'P31', '32':'P32', '33':'P33'} #list of all the participants\n",
    "\n",
    "wd_outpout=set_WD+\"/data/processed_data/T1_access.csv\"\n",
    "wd_input=set_WD+\"/data/raw_data/task\"\n",
    "\n",
    "\n",
    "def ouvrir_fichier() :\n",
    "    f=open(wd_outpout, \"a\")\n",
    "    L=\"Sujet,sujet_num,Bloc,audio,Question,reponse,tps_acces,clarte,tempau,effort \\n\"\n",
    "    f.writelines(L)\n",
    "    f.close()\n",
    "def completer_fichier(suj,suj_num,bloc,aud,numero,rep,tps,clarte,tempau,effort) :\n",
    "    f=open(wd_outpout, \"a\")\n",
    "    FF=suj+','+str(suj_num)+','+str(bloc)+','+aud+','+numero+','+str(rep)+','+str(tps)+','+clarte+','+tempau+','+effort+'\\n'\n",
    "    f.writelines(FF)\n",
    "    f.close()\n",
    "        \n",
    "ouvrir_fichier()\n",
    "os.chdir(wd_input)\n",
    "lst = os.listdir()\n",
    "lst.sort()\n",
    "\n",
    "\n",
    "for filename in lst : \n",
    "    num=1\n",
    "    data = pd.read_csv(filename,sep=',')\n",
    "    sujet=filename[8:-6]\n",
    "    \n",
    "    bloc=filename[-5:-4]\n",
    "    audio=data['audio']\n",
    "    if float(sujet)<7:\n",
    "        reponse=data['response_fin_acces']\n",
    "        time=data['response_time_fin_acces']\n",
    "    elif float(sujet)>6:\n",
    "        reponse=data['response_fin_acces_1']\n",
    "        time=data['response_time_fin_acces_1']\n",
    "    clarte=data['response_Eval_clarte']\n",
    "    tempau=data['response_Eval_tempau']\n",
    "    effort=data['response_Eval_effort']    \n",
    "    for i in range(len(data)) :\n",
    "        aud=audio[i]\n",
    "        rep=reponse[i]\n",
    "        tps=str(time[i])\n",
    "        clart=str(clarte[i])\n",
    "        temp=str(tempau[i])\n",
    "        eff=str(effort[i])\n",
    "        numero=str(num)\n",
    "        completer_fichier(idd[sujet],sujet,bloc,aud,numero,rep,tps,clart,temp,eff)\n",
    "        num=num+1\n",
    " "
   ]
  },
  {
   "cell_type": "code",
   "execution_count": 2,
   "metadata": {},
   "outputs": [
    {
     "name": "stdout",
     "output_type": "stream",
     "text": [
      "reading the file : Evaluation_souvenirs_autobio.csv\n"
     ]
    }
   ],
   "source": [
    "##############################\n",
    "##############################\n",
    "# EXTRACTION QUALITY DEBRIEF #\n",
    "##############################\n",
    "##############################\n",
    "\n",
    "wd_outpout=set_WD+\"/data/processed_data/quality.csv\"\n",
    "wd_input=set_WD+'/data/raw_data/richesse_debrief'\n",
    "\n",
    "def ouvrir_fichier() :\n",
    "    f=open(wd_outpout, \"a\")\n",
    "    L=\"Sujet,Bloc,Question,Etape_1,Etape_2\\n\"\n",
    "    f.writelines(L)\n",
    "    f.close()\n",
    "def completer_fichier(suj,bloc,numero,etape_1,etape_2) :\n",
    "    f=open(wd_outpout, \"a\")\n",
    "    FF=suj+','+bloc+','+numero+','+etape_1+','+etape_2+'\\n'\n",
    "    f.writelines(FF)\n",
    "    f.close()\n",
    "        \n",
    "ouvrir_fichier()\n",
    "os.chdir(wd_input)\n",
    "lst = [x for x in os.listdir() if x[-3:]==\"csv\"]\n",
    "lst.sort()\n",
    "\n",
    "for filename in lst : \n",
    "    print (\"reading the file :\",filename)\n",
    "    data = pd.read_csv(filename,sep=',')   \n",
    "    num=data['Question']\n",
    "    sujet=data['Sujet']\n",
    "    blocc=data['Bloc']\n",
    "    step_1=data['Etape 1 result']\n",
    "    step_2=data['Etape 2 result']    \n",
    "    for i in range(len(data)) :\n",
    "        numero=str(num[i])\n",
    "        suj=str(sujet[i])\n",
    "        bloc=str(blocc[i])\n",
    "        etape_2=str(step_2[i])\n",
    "        etape_1=step_1[i]\n",
    "        completer_fichier(suj,bloc,numero,etape_1,etape_2)\n",
    " "
   ]
  },
  {
   "cell_type": "markdown",
   "metadata": {
    "tags": []
   },
   "source": [
    "## Merge gaze aversions data and memories characteristics in the same dataframe\n",
    "#### for access period"
   ]
  },
  {
   "cell_type": "code",
   "execution_count": 3,
   "metadata": {},
   "outputs": [],
   "source": [
    "def convert_to_str(input_seq, seperator):\n",
    "    final_str = seperator.join(input_seq)\n",
    "    return final_str"
   ]
  },
  {
   "cell_type": "code",
   "execution_count": 4,
   "metadata": {},
   "outputs": [
    {
     "name": "stdout",
     "output_type": "stream",
     "text": [
      "file opened and saved inside\n"
     ]
    }
   ],
   "source": [
    "#######################\n",
    "# FUSION T1 & QUALITY #\n",
    "#######################\n",
    "\n",
    "file_1=set_WD+\"/data/processed_data/output_1.csv\"\n",
    "a_1 = pd.read_csv(set_WD+\"/data/processed_data/quality.csv\")\n",
    "b_1 = pd.read_csv(set_WD+\"/data/processed_data/T1_access.csv\")\n",
    "merged = b_1.merge(a_1)#pd.concat([b_1, a_1])\n",
    "                   \n",
    "\n",
    "merged.to_csv(file_1, index=False)\n",
    "\n",
    "print('file opened and saved inside')\n",
    "\n",
    "\n",
    "f=open(set_WD+\"/data/processed_data/T1_quality.csv\", \"a\")\n",
    "\n",
    "inp=csv.reader(open(file_1,\"r\"))\n",
    "ind_ligne=0\n",
    "\n",
    "for row in inp:  \n",
    "    L=convert_to_str(row, ',') \n",
    "    L=L+'\\n'\n",
    "    f=open(set_WD+\"/data/processed_data/T1_quality.csv\", \"a\")\n",
    "    f.writelines(L)\n",
    "    f.close()"
   ]
  },
  {
   "cell_type": "code",
   "execution_count": 7,
   "metadata": {},
   "outputs": [],
   "source": [
    "############################\n",
    "# FUSION E.T. & T1+QUALITY #\n",
    "############################\n",
    "\n",
    "file=set_WD+\"/data/processed_data/output.csv\"\n",
    "a = pd.read_csv(set_WD+\"/data/processed_data/ratios_access.csv\")\n",
    "b = pd.read_csv(set_WD+\"/data/processed_data/T1_quality.csv\")\n",
    "merged = b.merge(a)\n",
    "merged.to_csv(file, index=False)\n",
    "\n",
    "f=open(set_WD+\"/data/processed_data/data_T1_access.csv\", \"a\")\n",
    "inp=csv.reader(open(file,\"r\"))\n",
    "\n",
    "ind_ligne=0\n",
    "for row in inp:  \n",
    "    if row[15]!='MISSING' and row[10]!='NoA':        \n",
    "        L=convert_to_str(row, ',') \n",
    "        if ind_ligne==1:\n",
    "            if float(row[12])==0:\n",
    "                L=L+',0'\n",
    "            elif float(row[12])>0:\n",
    "                L=L+',1'            \n",
    "        if ind_ligne==0:\n",
    "            L=L+',VD_here'\n",
    "            ind_ligne=1\n",
    "        L=L+'\\n'\n",
    "        f=open(set_WD+\"/data/processed_data/data_T1_access.csv\", \"a\")\n",
    "        f.writelines(L)\n",
    "        f.close()\n",
    "\n"
   ]
  },
  {
   "cell_type": "code",
   "execution_count": 8,
   "metadata": {},
   "outputs": [],
   "source": [
    "access_VD = pd.read_csv(set_WD + '\\data\\processed_data\\data_T1_access.csv')\n",
    "###############################\n",
    "# CREATE ORIENTATION_LAST.CSV #\n",
    "###############################\n",
    "# this file \n",
    "df = pd.read_csv(set_WD+\"/data/processed_data/orientation.csv\")\n",
    "dfn=df.loc[df['last']!=0]\n",
    "dfn.to_csv(set_WD+\"/data/processed_data/last.csv\")\n",
    "\n",
    "file_2=set_WD+\"/data/processed_data/last.csv\"\n",
    "f=open(set_WD+\"/data/processed_data/orientation_last.csv\", \"a\")\n",
    "inp=csv.reader(open(file_2,\"r\"))"
   ]
  },
  {
   "cell_type": "markdown",
   "metadata": {},
   "source": [
    "#### Calculation of the direction of the gaze aversion based on the last coordinate on the screen"
   ]
  },
  {
   "cell_type": "code",
   "execution_count": 9,
   "metadata": {},
   "outputs": [],
   "source": [
    "# SCREEN 768 vertically and 1024 horizontally\n",
    "# the screen is divided in 9 equal sections\n",
    "ind_ligne=0\n",
    "for row in inp:  \n",
    "    L=convert_to_str(row, ',') \n",
    "    if ind_ligne==1:\n",
    "        direction=\"inattendu\"\n",
    "        if float(row[5])<(1024/3) and float(row[6])<(768/3) : # row[5] = coord_x (horizontal)\n",
    "            direction=\"upleft\" # upper left corner\n",
    "        if float(row[5])<(1024/3) and (768/3)<float(row[6])<((768/3)*2) : # row[5] = coord_x (horizontal)\n",
    "            direction=\"left\" \n",
    "        if float(row[5])<(1024/3) and ((768/3)*2)<float(row[6])<768 : # row[5] = coord_x (horizontal)\n",
    "            direction=\"downleft\" # lower left corner\n",
    "        \n",
    "        if (1024/3)<float(row[5])<((1024/3)*2) and float(row[6])<(768/3) : # row[5] = coord_x (horizontal)\n",
    "            direction=\"up\" # up\n",
    "        if (1024/3)<float(row[5])<((1024/3)*2) and (768/3)<float(row[6])<((768/3)*2) : # row[5] = coord_x (horizontal)\n",
    "            direction=\"center\" #center of the screen\n",
    "        if (1024/3)<float(row[5])<((1024/3)*2) and ((768/3)*2)<float(row[6])<768 : # row[5] = coord_x (horizontal)\n",
    "            direction=\"down\" # down\n",
    "        \n",
    "        if ((1024/3)*2)<float(row[5])<1024 and float(row[6])<(768/3) : # row[5] = coord_x (horizontal)\n",
    "            direction=\"upright\" # upper right corner\n",
    "        if ((1024/3)*2)<float(row[5])<1024 and (768/3)<float(row[6])<((768/3)*2) : # row[5] = coord_x (horizontal)\n",
    "            direction=\"right\" \n",
    "        if ((1024/3)*2)<float(row[5])<1024 and ((768/3)*2)<float(row[6])<768 : # row[5] = coord_x (horizontal)\n",
    "            direction=\"downright\" # lower right corner    \n",
    "        \n",
    "        L=L+','+direction+',0'\n",
    "    if ind_ligne==0:\n",
    "        L=L+',direction,changed'\n",
    "        ind_ligne=1\n",
    "    L=L+'\\n'\n",
    "    f=open(set_WD+\"/data/processed_data/orientation_last.csv\", \"a\")\n",
    "    f.writelines(L)\n",
    "    f.close()\n"
   ]
  },
  {
   "cell_type": "code",
   "execution_count": 10,
   "metadata": {},
   "outputs": [],
   "source": [
    "# delete files used for intermediate processing, which are now useless\n",
    "os.remove(set_WD+\"/data/processed_data/orientation.csv\")\n",
    "#os.remove(set_WD+\"/data/processed_data/last.csv\")\n",
    "os.remove(set_WD+\"/data/processed_data/T1_access.csv\")\n",
    "os.remove(set_WD+\"/data/processed_data/output_1.csv\")\n",
    "os.remove(set_WD+\"/data/processed_data/output.csv\")\n",
    "os.remove(set_WD+\"/data/processed_data/quality.csv\")"
   ]
  },
  {
   "cell_type": "markdown",
   "metadata": {},
   "source": [
    "# To count the VD during access which continue during elaboration"
   ]
  },
  {
   "cell_type": "code",
   "execution_count": 11,
   "metadata": {},
   "outputs": [
    {
     "name": "stdout",
     "output_type": "stream",
     "text": [
      "nb_of_VD_access_continue_elaboration = 260\n"
     ]
    }
   ],
   "source": [
    "nb_of_VD_access_continue_elaboration = 0\n",
    "for i in range(len(access_VD['Sujet'])):\n",
    "\n",
    "    if round(access_VD['moy_duree_VD'][i] + access_VD['delai'][i]) >= round(access_VD['tps_acces'][i]) :\n",
    "\n",
    "        nb_of_VD_access_continue_elaboration = nb_of_VD_access_continue_elaboration + 1\n",
    "print(\"nb_of_VD_access_continue_elaboration =\", nb_of_VD_access_continue_elaboration)"
   ]
  },
  {
   "cell_type": "code",
   "execution_count": 12,
   "metadata": {},
   "outputs": [
    {
     "name": "stdout",
     "output_type": "stream",
     "text": [
      "nb trials with VD = 492\n",
      "nb trials with VD continuing in elaboration =  316\n",
      "% of VD continuing in elaboration = 64.22764227642277\n"
     ]
    }
   ],
   "source": [
    "trials_with_VD = 0\n",
    "trials_with_VD_continuing_in_visu = 0\n",
    "for i in range(len(access_VD['Sujet'])):\n",
    "    if access_VD['nb_VD'][i] > 0:\n",
    "        trials_with_VD = trials_with_VD + 1\n",
    "        if access_VD['VD_continue_in_visu '][i] == ' yes':\n",
    "            trials_with_VD_continuing_in_visu = trials_with_VD_continuing_in_visu + 1\n",
    "        \n",
    "print('nb trials with VD =',trials_with_VD)\n",
    "print('nb trials with VD continuing in elaboration = ', trials_with_VD_continuing_in_visu)\n",
    "\n",
    "per_VD_continuing_in_visu = (trials_with_VD_continuing_in_visu/trials_with_VD)*100\n",
    "print('% of VD continuing in elaboration =', per_VD_continuing_in_visu)"
   ]
  }
 ],
 "metadata": {
  "kernelspec": {
   "display_name": "Python 3 (ipykernel)",
   "language": "python",
   "name": "python3"
  },
  "language_info": {
   "codemirror_mode": {
    "name": "ipython",
    "version": 3
   },
   "file_extension": ".py",
   "mimetype": "text/x-python",
   "name": "python",
   "nbconvert_exporter": "python",
   "pygments_lexer": "ipython3",
   "version": "3.7.6"
  }
 },
 "nbformat": 4,
 "nbformat_minor": 4
}
