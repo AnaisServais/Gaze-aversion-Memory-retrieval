{
 "cells": [
  {
   "cell_type": "markdown",
   "id": "8ab22c14-8d50-44ea-bb5f-d58e54d9ce57",
   "metadata": {},
   "source": [
    "# Head movements during gaze aversions"
   ]
  },
  {
   "cell_type": "code",
   "execution_count": 1,
   "id": "ed6d0fd1-a7b2-4b30-ac36-0eecd81a68d2",
   "metadata": {},
   "outputs": [],
   "source": [
    "import pandas as pd\n",
    "import seaborn as sns\n",
    "import matplotlib.pyplot as plt\n",
    "import numpy as np\n",
    "import os\n",
    "import colorcet as cc\n",
    "import scipy.stats as stats\n",
    "import csv\n",
    "import math\n",
    "from numpy.linalg import inv\n",
    "import transforms3d.euler as eul"
   ]
  },
  {
   "cell_type": "code",
   "execution_count": 2,
   "id": "9aad2c72-bccc-4960-85ee-9df86280af7f",
   "metadata": {},
   "outputs": [],
   "source": [
    "set_WD = os.getcwd() # get current work directory\n",
    "\n",
    "# Import files for subjective analysis\n",
    "rater_1 = pd.read_excel(set_WD+ r\"\\data\\processed_data\\head_movements\\head_movement_first_rater.xlsx\")\n",
    "rater_2 = pd.read_excel(set_WD+ r\"\\data\\processed_data\\head_movements\\head_movement_second_rater.xlsx\")\n",
    "\n",
    "# Import file for objective analysis\n",
    "openface = pd.read_csv(set_WD+ r\"\\data\\processed_data\\head_movements\\openface_check.csv\") # file is named openface because it contains the columns OpenFace_VD and OpenFace_baseline contain 1 if openface did an accurate landmarks detection for gaze aversion and baseline screenshots respectively\n",
    "openface_results_dir = set_WD+ \"/data/processed_data/head_movements/openface results all screenshots/\" # Directory with Openface csv output files for all screenshots (gaze aversions (called VD) and baselines for every gaze aversion)\n",
    "\n",
    "# Import file containing quality of memories (will be used to remove question where the memory does not meet autobiographical criteria)\n",
    "quality_data = pd.read_csv(set_WD+ r\"\\data\\processed_data\\T1_quality.csv\")\n",
    "\n",
    "# set a path to save figures and data\n",
    "wd_output_files=set_WD+ r\"\\data\\processed_data\\head_movements\\\\\"# path to a directory where the files will be saved\n",
    "wd_output_fig=set_WD+ r\"\\data\\figures\\\\\" # path to a directory where the figures will be saved"
   ]
  },
  {
   "cell_type": "markdown",
   "id": "b327e7cc-d0ee-493c-ac2d-d55e1ef473af",
   "metadata": {},
   "source": [
    "# Subjective analysis of head movements"
   ]
  },
  {
   "cell_type": "markdown",
   "id": "a898ab00-bdfb-4f1c-b05c-c051d7dd80b6",
   "metadata": {},
   "source": [
    "### Code to reproduce figure from the paper"
   ]
  },
  {
   "cell_type": "code",
   "execution_count": 3,
   "id": "0066265c-c4d5-4d36-8556-c957ee24a505",
   "metadata": {},
   "outputs": [
    {
     "data": {
      "image/png": "[encoded data removed]",
      "text/plain": [
       "<Figure size 432x288 with 1 Axes>"
      ]
     },
     "metadata": {
      "needs_background": "light"
     },
     "output_type": "display_data"
    }
   ],
   "source": [
    "fig = plt.figure()\n",
    "ax = fig.add_subplot(111)\n",
    "\n",
    "\n",
    "head_mov = list(rater_1['head movement'].value_counts())\n",
    "for i in range(len(head_mov)):\n",
    "    head_mov[i] = head_mov[i]/len(rater_1)*100\n",
    "    \n",
    "N = len(head_mov)\n",
    "\n",
    "ind = np.arange(N)\n",
    "width = 0.35     \n",
    "\n",
    "rects2 = ax.bar(ind+width/1.70, head_mov, width,\n",
    "                    color='darkorange', alpha = 0.8)\n",
    "\n",
    "ax.set_xticks([0.20,1.2,2.2,3.2])\n",
    "ax.set_xticklabels([\"none\", \"almost none\", \"moderate\", \"important\"],fontsize=14, rotation = 30)\n",
    "plt.yticks([0,25, 50, 75, 100], fontsize=16)\n",
    "\n",
    "ax.set_xlim(-width,len(ind)+width)\n",
    "ax.set_ylim(0,100)\n",
    "ax.set_ylabel('Trials (%)', fontsize = 16)\n",
    "ax.set_xlabel('Intensity of head movement\\nduring gaze aversions\\n' +\"(N=\"+str(len(rater_1['head movement']))+')', fontsize = 16, labelpad=10)\n",
    "\n",
    "plt.savefig(wd_output_fig+\"subjective_evaluation_head.png\",bbox_inches = \"tight\")\n",
    "plt.show()"
   ]
  },
  {
   "cell_type": "markdown",
   "id": "8221f17b-f4e2-4cbc-8278-a896188c236e",
   "metadata": {},
   "source": [
    "### Code to calculate inter-rater concordance"
   ]
  },
  {
   "cell_type": "code",
   "execution_count": 4,
   "id": "71a7d6eb-ef38-4032-b24f-08cb201b9f9a",
   "metadata": {
    "tags": []
   },
   "outputs": [
    {
     "name": "stdout",
     "output_type": "stream",
     "text": [
      "tau = 0.3750772730448975\n",
      "p-value = 0.00021203419831076947\n"
     ]
    }
   ],
   "source": [
    "# Calculate Kendall's Tau and p-value\n",
    "\n",
    "tau, p_value = stats.kendalltau(rater_2['head movement rater2'], rater_2['head movement rater1'])\n",
    "print('tau =', tau)\n",
    "print('p-value =', p_value)"
   ]
  },
  {
   "cell_type": "markdown",
   "id": "191d2f85-1773-4f5c-8d8b-3383bd81b7f4",
   "metadata": {},
   "source": [
    "# Quantitative evaluation of head movement"
   ]
  },
  {
   "cell_type": "markdown",
   "id": "1ea2d489-099d-43c3-ac2a-3bf3a8b50731",
   "metadata": {},
   "source": [
    "NOTE\n",
    "We used OpenFace 2.0 to measure head rotations and eye angles.\n",
    "https://github-wiki-see.page/m/TadasBaltrusaitis/OpenFace/wiki/Output-Format\n",
    "\n",
    "DISCLAIMER\n",
    "For every screenshot, openface output prodived a picture with landmarks detection, a txt file with parameters and a csv file with head and eye orientations.\n",
    "In the openface_results_dir (publicly available), only the .csv files are shared in respect to the protection of personal data because the other files are not anonymous and would allow the identification of participants.\n",
    "\n",
    "Because participants wore masks, all the detection from OpenFace have been manually verified and only the trials with accurate landmarks detection are kept for analyses.\n",
    "--> results in openface_check.csv"
   ]
  },
  {
   "cell_type": "code",
   "execution_count": 5,
   "id": "24cc58b9-344c-4639-b504-3ab4c99e9e58",
   "metadata": {},
   "outputs": [],
   "source": [
    "# list of all files in Openface output directory\n",
    "os.chdir(openface_results_dir)\n",
    "lst_files = os.listdir()\n",
    "lst_files.sort()\n",
    "lst_files\n",
    "# keep only .csv files \n",
    "lst_csv = []\n",
    "for csv_file in lst_files:\n",
    "    if \".csv\" in csv_file:\n",
    "        lst_csv.append(csv_file)\n",
    "    \n",
    "sujets =['P01','P02','P03','P04','P05','P06', \\\n",
    "      'P07','P09','P10','P11','P12','P13', \\\n",
    "      'P14','P15','P16','P17','P18', \\\n",
    "      'P19', 'P20', 'P21', 'P22', 'P23', 'P24', \\\n",
    "       'P25', 'P26', 'P27', 'P28', 'P29', 'P30', 'P31', 'P32', 'P33'] # list of all the participants with their anonymized code"
   ]
  },
  {
   "cell_type": "code",
   "execution_count": 6,
   "id": "fcbfab29-d281-436e-a11c-d914b92a7b96",
   "metadata": {},
   "outputs": [
    {
     "name": "stderr",
     "output_type": "stream",
     "text": [
      "C:\\Users\\anais\\anaconda3\\lib\\site-packages\\ipykernel_launcher.py:113: SettingWithCopyWarning: \n",
      "A value is trying to be set on a copy of a slice from a DataFrame\n",
      "\n",
      "See the caveats in the documentation: https://pandas.pydata.org/pandas-docs/stable/user_guide/indexing.html#returning-a-view-versus-a-copy\n",
      "C:\\Users\\anais\\anaconda3\\lib\\site-packages\\ipykernel_launcher.py:114: SettingWithCopyWarning: \n",
      "A value is trying to be set on a copy of a slice from a DataFrame\n",
      "\n",
      "See the caveats in the documentation: https://pandas.pydata.org/pandas-docs/stable/user_guide/indexing.html#returning-a-view-versus-a-copy\n",
      "C:\\Users\\anais\\anaconda3\\lib\\site-packages\\ipykernel_launcher.py:115: SettingWithCopyWarning: \n",
      "A value is trying to be set on a copy of a slice from a DataFrame\n",
      "\n",
      "See the caveats in the documentation: https://pandas.pydata.org/pandas-docs/stable/user_guide/indexing.html#returning-a-view-versus-a-copy\n",
      "C:\\Users\\anais\\anaconda3\\lib\\site-packages\\ipykernel_launcher.py:116: SettingWithCopyWarning: \n",
      "A value is trying to be set on a copy of a slice from a DataFrame\n",
      "\n",
      "See the caveats in the documentation: https://pandas.pydata.org/pandas-docs/stable/user_guide/indexing.html#returning-a-view-versus-a-copy\n"
     ]
    }
   ],
   "source": [
    "# Create a dataframe containing the openface output data for all the trials where the detection was accurate\n",
    "# = df_face_orientation\n",
    "\n",
    "code_sujet = []\n",
    "question_name = []\n",
    "\n",
    "pitch_Rx_baseline = []\n",
    "yaw_Ry_baseline = []\n",
    "roll_Rz_baseline = []\n",
    "\n",
    "gaze_angle_x_baseline = []\n",
    "gaze_angle_y_baseline = []\n",
    "\n",
    "pitch_Rx_VD = []\n",
    "yaw_Ry_VD = []\n",
    "roll_Rz_VD = []\n",
    "\n",
    "gaze_angle_x_VD = [] # gaze angle in radiants\n",
    "gaze_angle_y_VD = []\n",
    "# x = left-right (left is positive)\n",
    "# y = up-down (down is positive)\n",
    "\n",
    "corrected_orientation_video = [] # orientation of the gaze aversion based on the eye-tracker and manual correction of videos\n",
    "\n",
    "# Add the 3D vector of one eye for gaze direction to the table\n",
    "eye_vector_X_VD =[] \n",
    "eye_vector_Y_VD =[]\n",
    "eye_vector_Z_VD =[] \n",
    "eye_vector_X_baseline =[] \n",
    "eye_vector_Y_baseline =[]\n",
    "eye_vector_Z_baseline =[] \n",
    "\n",
    "nb = 0\n",
    "n = 0\n",
    "r = 0\n",
    "\n",
    "sujet_prec = 0\n",
    "question_prec = 0\n",
    "for i in range(len(openface['sujet'])):\n",
    "    if openface['OpenFace_VD'][i] == 1 and openface['OpenFace_baseline'][i] == 1 : # keep only trials where the accuracy of the landmarks detection was good both during gaze aversion and baseline\n",
    "        sujet = openface['sujet'][i]\n",
    "        question = openface['audio'][i]\n",
    "        question_baseline = question[5:-4] + '_baseline'\n",
    "        question_VD = question[5:-4] + '_VD'\n",
    "        trial_baseline = [csv for csv in lst_csv if sujet in csv and question_baseline in csv]\n",
    "        trial_VD = [csv for csv in lst_csv if sujet in csv and question_VD in csv]\n",
    "\n",
    "        nb = nb + 1\n",
    "        \n",
    "        if question != question_prec or sujet != sujet_prec:   \n",
    "\n",
    "            for VD in range(len(trial_VD)):\n",
    "                df_VD = pd.read_csv(openface_results_dir + trial_VD[VD])\n",
    "\n",
    "                df_baseline = pd.read_csv(openface_results_dir + trial_baseline[0])\n",
    "\n",
    "                if len(df_baseline) ==1 and len(df_VD) ==1:\n",
    "                    n = n + 1\n",
    "                    code_sujet.append(sujet)\n",
    "                    question_name.append(question[5:-4])\n",
    "                    corrected_orientation_video.append(openface['corrected_orientation_video'][i])\n",
    "\n",
    "                    pitch_Rx_baseline.append(df_baseline[' pose_Rx'][0]) # baseline = screenshot of participant during the end of the question\n",
    "                    yaw_Ry_baseline.append(df_baseline[' pose_Ry'][0])\n",
    "                    roll_Rz_baseline.append(df_baseline[' pose_Rz'][0])\n",
    "\n",
    "                    gaze_angle_x_baseline.append(df_baseline[' gaze_angle_x'][0])\n",
    "                    gaze_angle_y_baseline.append(df_baseline[' gaze_angle_y'][0])\n",
    "                    \n",
    "                    eye_vector_X_baseline.append(df_baseline[' gaze_1_x'][0])\n",
    "                    eye_vector_Y_baseline.append(df_baseline[' gaze_1_y'][0])\n",
    "                    eye_vector_Z_baseline.append(df_baseline[' gaze_1_z'][0])\n",
    "\n",
    "                    pitch_Rx_VD.append(df_VD[' pose_Rx'][0]) # VD = screenshot of the participant when the gaze aversion was present during the access memory phase\n",
    "                    yaw_Ry_VD.append(df_VD[' pose_Ry'][0])\n",
    "                    roll_Rz_VD.append(df_VD[' pose_Rz'][0])\n",
    "\n",
    "                    gaze_angle_x_VD.append(df_VD[' gaze_angle_x'][0])\n",
    "                    gaze_angle_y_VD.append(df_VD[' gaze_angle_y'][0])\n",
    "                    \n",
    "                    eye_vector_X_VD.append(df_VD[' gaze_1_x'][0])\n",
    "                    eye_vector_Y_VD.append(df_VD[' gaze_1_y'][0])\n",
    "                    eye_vector_Z_VD.append(df_VD[' gaze_1_z'][0])\n",
    "                    \n",
    "                    \n",
    "\n",
    "        sujet_prec = sujet\n",
    "        question_prec = question\n",
    "        \n",
    "df_face_orientation = pd.DataFrame({'sujet':code_sujet, 'question':question_name, 'corrected_orientation_video': corrected_orientation_video, \\\n",
    "                                     'pitch_Rx_baseline': pitch_Rx_baseline, 'yaw_Ry_baseline': yaw_Ry_baseline, \\\n",
    "                                     'roll_Rz_baseline': roll_Rz_baseline, 'gaze_angle_x_baseline':gaze_angle_x_baseline, 'gaze_angle_y_baseline':gaze_angle_y_baseline, \\\n",
    "                                     'pitch_Rx_VD': pitch_Rx_VD, 'yaw_Ry_VD': yaw_Ry_VD, 'roll_Rz_VD': roll_Rz_VD, \\\n",
    "                                     'gaze_angle_x_VD':gaze_angle_x_VD, 'gaze_angle_y_VD':gaze_angle_y_VD, \\\n",
    "                                     'eye_vector_X_baseline':eye_vector_X_baseline, 'eye_vector_Y_baseline':eye_vector_Y_baseline, 'eye_vector_Z_baseline':eye_vector_Z_baseline, \\\n",
    "                                     'eye_vector_X_VD':eye_vector_X_VD, 'eye_vector_Y_VD':eye_vector_Y_VD, 'eye_vector_Z_VD':eye_vector_Z_VD})\n",
    "\n",
    "# complete dataframe with other variables of interest for further analyses\n",
    "df_face_orientation['clarte'] = ''\n",
    "df_face_orientation['effort'] = ''\n",
    "df_face_orientation['quality'] = '' # score à l'Etape 2\n",
    "df_face_orientation['autobio'] = '' # score Etape 1 (fits the criteria of autobiographical memories or not)\n",
    "\n",
    "for i in range(len(df_face_orientation['sujet'])):\n",
    "    suj = df_face_orientation['sujet'][i]\n",
    "    quest = 'auto_' + df_face_orientation['question'][i] + '.wav'\n",
    "    \n",
    "    data = quality_data[quality_data['Sujet'] == suj]\n",
    "    data = data[data['audio'] == quest]\n",
    "    index = data[data['audio'] == quest].index.tolist()\n",
    "    if index:   \n",
    "        #print(index)\n",
    "        df_face_orientation['clarte'][i] = data['clarte'][index[0]]\n",
    "        df_face_orientation['effort'][i] = data['effort '][index[0]]\n",
    "        df_face_orientation['quality'][i] = data['Etape_2'][index[0]]\n",
    "        df_face_orientation['autobio'][i] = data['Etape_1'][index[0]]\n",
    "\n",
    "# delete all memories which are not autobiographical\n",
    "df_face_orientation = df_face_orientation[df_face_orientation['autobio'] == 'A']\n",
    "df_face_orientation.reset_index(level=None, drop=False, inplace=True, col_level=0, col_fill='')"
   ]
  },
  {
   "cell_type": "code",
   "execution_count": 7,
   "id": "542f3714-9d61-4ade-a081-cc521f09f6b1",
   "metadata": {},
   "outputs": [
    {
     "name": "stderr",
     "output_type": "stream",
     "text": [
      "C:\\Users\\anais\\anaconda3\\lib\\site-packages\\ipykernel_launcher.py:14: SettingWithCopyWarning: \n",
      "A value is trying to be set on a copy of a slice from a DataFrame\n",
      "\n",
      "See the caveats in the documentation: https://pandas.pydata.org/pandas-docs/stable/user_guide/indexing.html#returning-a-view-versus-a-copy\n",
      "  \n",
      "C:\\Users\\anais\\anaconda3\\lib\\site-packages\\ipykernel_launcher.py:15: SettingWithCopyWarning: \n",
      "A value is trying to be set on a copy of a slice from a DataFrame\n",
      "\n",
      "See the caveats in the documentation: https://pandas.pydata.org/pandas-docs/stable/user_guide/indexing.html#returning-a-view-versus-a-copy\n",
      "  from ipykernel import kernelapp as app\n",
      "C:\\Users\\anais\\anaconda3\\lib\\site-packages\\ipykernel_launcher.py:16: SettingWithCopyWarning: \n",
      "A value is trying to be set on a copy of a slice from a DataFrame\n",
      "\n",
      "See the caveats in the documentation: https://pandas.pydata.org/pandas-docs/stable/user_guide/indexing.html#returning-a-view-versus-a-copy\n",
      "  app.launch_new_instance()\n",
      "C:\\Users\\anais\\anaconda3\\lib\\site-packages\\ipykernel_launcher.py:18: SettingWithCopyWarning: \n",
      "A value is trying to be set on a copy of a slice from a DataFrame\n",
      "\n",
      "See the caveats in the documentation: https://pandas.pydata.org/pandas-docs/stable/user_guide/indexing.html#returning-a-view-versus-a-copy\n",
      "C:\\Users\\anais\\anaconda3\\lib\\site-packages\\ipykernel_launcher.py:19: SettingWithCopyWarning: \n",
      "A value is trying to be set on a copy of a slice from a DataFrame\n",
      "\n",
      "See the caveats in the documentation: https://pandas.pydata.org/pandas-docs/stable/user_guide/indexing.html#returning-a-view-versus-a-copy\n",
      "C:\\Users\\anais\\anaconda3\\lib\\site-packages\\ipykernel_launcher.py:32: SettingWithCopyWarning: \n",
      "A value is trying to be set on a copy of a slice from a DataFrame\n",
      "\n",
      "See the caveats in the documentation: https://pandas.pydata.org/pandas-docs/stable/user_guide/indexing.html#returning-a-view-versus-a-copy\n",
      "C:\\Users\\anais\\anaconda3\\lib\\site-packages\\ipykernel_launcher.py:33: SettingWithCopyWarning: \n",
      "A value is trying to be set on a copy of a slice from a DataFrame\n",
      "\n",
      "See the caveats in the documentation: https://pandas.pydata.org/pandas-docs/stable/user_guide/indexing.html#returning-a-view-versus-a-copy\n",
      "C:\\Users\\anais\\anaconda3\\lib\\site-packages\\ipykernel_launcher.py:34: SettingWithCopyWarning: \n",
      "A value is trying to be set on a copy of a slice from a DataFrame\n",
      "\n",
      "See the caveats in the documentation: https://pandas.pydata.org/pandas-docs/stable/user_guide/indexing.html#returning-a-view-versus-a-copy\n",
      "C:\\Users\\anais\\anaconda3\\lib\\site-packages\\ipykernel_launcher.py:36: SettingWithCopyWarning: \n",
      "A value is trying to be set on a copy of a slice from a DataFrame\n",
      "\n",
      "See the caveats in the documentation: https://pandas.pydata.org/pandas-docs/stable/user_guide/indexing.html#returning-a-view-versus-a-copy\n",
      "C:\\Users\\anais\\anaconda3\\lib\\site-packages\\ipykernel_launcher.py:37: SettingWithCopyWarning: \n",
      "A value is trying to be set on a copy of a slice from a DataFrame\n",
      "\n",
      "See the caveats in the documentation: https://pandas.pydata.org/pandas-docs/stable/user_guide/indexing.html#returning-a-view-versus-a-copy\n"
     ]
    }
   ],
   "source": [
    "# For each gaze aversion calculate the difference between baseline and gaze aversion to calculate the amplitude of the movement between both\n",
    "# The change between baseline and gaze aversion is a substraction of gaze aversion position - baseline position\n",
    "# these data are added to the dataframe in columns containing \"change\"\n",
    "\n",
    "# change in radiants\n",
    "df_face_orientation['change_pitch_x_radiant'] = ''\n",
    "df_face_orientation['change_yaw_y_radiant'] = ''\n",
    "df_face_orientation['change_roll_z_radiant'] = ''\n",
    "\n",
    "df_face_orientation['change_gaze_angle_x_radiant'] = ''\n",
    "df_face_orientation['change_gaze_angle_y_radiant'] = ''\n",
    "\n",
    "for i in range(len(df_face_orientation['sujet'])):\n",
    "    df_face_orientation['change_pitch_x_radiant'][i] = df_face_orientation['pitch_Rx_VD'][i] - df_face_orientation['pitch_Rx_baseline'][i]\n",
    "    df_face_orientation['change_yaw_y_radiant'][i] = df_face_orientation['yaw_Ry_VD'][i] - df_face_orientation['yaw_Ry_baseline'][i]\n",
    "    df_face_orientation['change_roll_z_radiant'][i] = df_face_orientation['roll_Rz_VD'][i] - df_face_orientation['roll_Rz_baseline'][i]\n",
    "    \n",
    "    df_face_orientation['change_gaze_angle_x_radiant'][i] = df_face_orientation['gaze_angle_x_VD'][i] - df_face_orientation['gaze_angle_x_baseline'][i]\n",
    "    df_face_orientation['change_gaze_angle_y_radiant'][i] = df_face_orientation['gaze_angle_y_VD'][i] - df_face_orientation['gaze_angle_y_baseline'][i]\n",
    "\n",
    "# change in degrees\n",
    "nb_of_degrees_in_1_radian = (360/math.pi)/2\n",
    "\n",
    "df_face_orientation['change_pitch_x_degree'] = ''\n",
    "df_face_orientation['change_yaw_y_degree'] = ''\n",
    "df_face_orientation['change_roll_z_degree'] = ''\n",
    "\n",
    "df_face_orientation['change_gaze_angle_x_degree'] = ''\n",
    "df_face_orientation['change_gaze_angle_y_degree'] = ''\n",
    "\n",
    "for i in range(len(df_face_orientation['sujet'])):\n",
    "    df_face_orientation['change_pitch_x_degree'][i] = df_face_orientation['change_pitch_x_radiant'][i]*nb_of_degrees_in_1_radian\n",
    "    df_face_orientation['change_yaw_y_degree'][i] = df_face_orientation['change_yaw_y_radiant'][i]*nb_of_degrees_in_1_radian\n",
    "    df_face_orientation['change_roll_z_degree'][i] =df_face_orientation['change_roll_z_radiant'][i]*nb_of_degrees_in_1_radian\n",
    "    \n",
    "    df_face_orientation['change_gaze_angle_x_degree'][i] = df_face_orientation['change_gaze_angle_x_radiant'][i]*nb_of_degrees_in_1_radian\n",
    "    df_face_orientation['change_gaze_angle_y_degree'][i] = df_face_orientation['change_gaze_angle_y_radiant'][i]*nb_of_degrees_in_1_radian\n"
   ]
  },
  {
   "cell_type": "markdown",
   "id": "46f4b325-655b-44ae-a612-2f3b2ffbeb94",
   "metadata": {},
   "source": [
    "### Calculate eye rotation in the reference of the head \n",
    "By default, eye angles are given in respect to the camera with OpenFace.\n",
    "https://github.com/TadasBaltrusaitis/OpenFace/issues/769"
   ]
  },
  {
   "cell_type": "code",
   "execution_count": 8,
   "id": "f1abd544-abcf-4bbd-bbd7-60762cf7bdc2",
   "metadata": {},
   "outputs": [
    {
     "name": "stderr",
     "output_type": "stream",
     "text": [
      "C:\\Users\\anais\\anaconda3\\lib\\site-packages\\ipykernel_launcher.py:26: SettingWithCopyWarning: \n",
      "A value is trying to be set on a copy of a slice from a DataFrame\n",
      "\n",
      "See the caveats in the documentation: https://pandas.pydata.org/pandas-docs/stable/user_guide/indexing.html#returning-a-view-versus-a-copy\n",
      "C:\\Users\\anais\\anaconda3\\lib\\site-packages\\ipykernel_launcher.py:27: SettingWithCopyWarning: \n",
      "A value is trying to be set on a copy of a slice from a DataFrame\n",
      "\n",
      "See the caveats in the documentation: https://pandas.pydata.org/pandas-docs/stable/user_guide/indexing.html#returning-a-view-versus-a-copy\n"
     ]
    }
   ],
   "source": [
    "# R(h_e) = R(h)*R(e)\n",
    "# R(e) = R(h).transpose()*(Rh_e) where R is a matrix, e is eye and h is head --> h_e is the eye in the head reference\n",
    "\n",
    "df_face_orientation['corrected_eye_pitch_in_head_reference'] = ''\n",
    "df_face_orientation['corrected_eye_yaw_in_head_reference'] = ''\n",
    "import transforms3d.euler as eul\n",
    "roll = []\n",
    "for i in range(len(df_face_orientation)):\n",
    "    eye_vector_XYZ_baseline = [df_face_orientation['gaze_angle_x_baseline'][i], df_face_orientation['gaze_angle_y_baseline'][i],0.041] # given as a position vector in camera reference ( gaze_0_x\t gaze_0_y\t gaze_0_z)\n",
    "    eye_vector_XYZ_VD = [df_face_orientation['gaze_angle_x_VD'][i], df_face_orientation['gaze_angle_y_VD'][i], -0.020] # given as a position vector in camera reference\n",
    "    euler_angles_head_yaw_pitch_roll_baseline = [ -df_face_orientation['yaw_Ry_baseline'][i], -df_face_orientation['pitch_Rx_baseline'][i], df_face_orientation['roll_Rz_baseline'][i]] # given as euler angles yaw pitch roll (yaw around x, pitch around y, and roll around z),  pose_Rx\t pose_Ry\t pose_Rz\n",
    "    euler_angles_head_yaw_pitch_roll_VD = [ -df_face_orientation['yaw_Ry_VD'][i], -df_face_orientation['pitch_Rx_VD'][i], df_face_orientation['roll_Rz_VD'][i]]\n",
    "\n",
    "    HEAD_Rotation_matrix_baseline = eul.euler2mat(*euler_angles_head_yaw_pitch_roll_baseline, axes='szyx')\n",
    "    HEAD_Rotation_matrix_VD = eul.euler2mat(*euler_angles_head_yaw_pitch_roll_VD , axes='szyx')\n",
    "\n",
    "    EYE_Rotation_matrix_baseline = eul.euler2mat(*eye_vector_XYZ_baseline, axes='szyx')\n",
    "    EYE_Rotation_matrix_VD = eul.euler2mat(*eye_vector_XYZ_VD,  axes='szyx')\n",
    "\n",
    "    Re_baseline = HEAD_Rotation_matrix_baseline.transpose()@EYE_Rotation_matrix_baseline\n",
    "    Re_VD = HEAD_Rotation_matrix_VD.transpose()@EYE_Rotation_matrix_VD\n",
    "    \n",
    "    euler_ang_baseline = eul.mat2euler(Re_baseline, axes='szyx')\n",
    "    euler_ang_VD = eul.mat2euler(Re_VD, axes='szyx')\n",
    "\n",
    "    df_face_orientation['corrected_eye_pitch_in_head_reference'][i] = (euler_ang_VD[0] - euler_ang_baseline[0])*nb_of_degrees_in_1_radian\n",
    "    df_face_orientation['corrected_eye_yaw_in_head_reference'][i] = (euler_ang_VD[1] - euler_ang_baseline[1])*nb_of_degrees_in_1_radian\n",
    "    roll.append((euler_ang_VD[2] - euler_ang_baseline[2])*nb_of_degrees_in_1_radian)\n",
    "\n",
    "df_face_orientation= df_face_orientation.drop(df_face_orientation.index[47]) # remove extrema value\n",
    "df_face_orientation.to_csv(wd_output_files + \"head_movements_ready_for_analyses.csv\") # save this dataframe containing all the values of eye and head movements necessary for analyses"
   ]
  },
  {
   "cell_type": "markdown",
   "id": "1a2ccc29-424a-4f71-a30f-54d69993a403",
   "metadata": {},
   "source": [
    "### Code to reproduce histograms from the paper with distribution of eye and head movement\n",
    "### yaw (horizontal movements) and pitch (vertical movements)"
   ]
  },
  {
   "cell_type": "code",
   "execution_count": 9,
   "id": "e16c2f32-2bc7-4c26-911a-72b1149b51b0",
   "metadata": {},
   "outputs": [
    {
     "data": {
      "image/png": "[encoded data removed]",
      "text/plain": [
       "<Figure size 432x360 with 1 Axes>"
      ]
     },
     "metadata": {
      "needs_background": "light"
     },
     "output_type": "display_data"
    }
   ],
   "source": [
    "plt.figure(figsize=(6, 5))\n",
    "plt.hist(df_face_orientation['corrected_eye_yaw_in_head_reference'], color = 'darkblue', bins = 80, alpha = 0.6, label = 'eye')\n",
    "plt.hist(-df_face_orientation['change_yaw_y_degree'], color = 'darkorange', bins = 60, alpha = 0.6, label = 'head')\n",
    "plt.legend(fontsize = 18)\n",
    "plt.title('Horizontal movement', fontsize = 20)\n",
    "plt.xlabel('Yaw (left-positive; in degrees)', fontsize = 18)\n",
    "plt.ylabel('Trials (in nb)', fontsize = 18)\n",
    "plt.xticks(fontsize = 18)\n",
    "plt.yticks([0,5, 10, 15, 20, 25], fontsize = 18)\n",
    "plt.savefig(wd_output_fig + 'head_movement_yaw.jpg',bbox_inches = \"tight\")\n",
    "plt.show()"
   ]
  },
  {
   "cell_type": "code",
   "execution_count": 10,
   "id": "b1f999df-9e6a-468c-b426-b1ab22413820",
   "metadata": {},
   "outputs": [
    {
     "data": {
      "image/png": "[encoded data removed]",
      "text/plain": [
       "<Figure size 432x360 with 1 Axes>"
      ]
     },
     "metadata": {
      "needs_background": "light"
     },
     "output_type": "display_data"
    }
   ],
   "source": [
    "plt.figure(figsize=(6, 5))\n",
    "plt.hist(df_face_orientation['corrected_eye_pitch_in_head_reference'], color = 'darkblue', bins = 60, alpha = 0.6, label = 'eyes')\n",
    "plt.hist(-df_face_orientation['change_pitch_x_degree'], color = 'darkorange', bins = 60, alpha = 0.6, label = 'head')\n",
    "plt.legend(fontsize = 18)\n",
    "plt.title('Vertical movement', fontsize = 20)\n",
    "plt.xlabel('Pitch (down-positive; in degrees)', fontsize = 18)\n",
    "plt.ylabel('Trials (in nb)', fontsize = 18)\n",
    "plt.xticks(fontsize = 18)\n",
    "plt.yticks([0,5, 10, 15, 20, 25], fontsize = 18)\n",
    "\n",
    "plt.savefig(wd_output_fig + 'head_movement_pitch.jpg',bbox_inches = \"tight\")\n",
    "plt.show()"
   ]
  },
  {
   "cell_type": "code",
   "execution_count": null,
   "id": "4cd10a71-cae7-4d41-9ad3-f239e0a0f6e6",
   "metadata": {},
   "outputs": [],
   "source": []
  }
 ],
 "metadata": {
  "kernelspec": {
   "display_name": "Python 3 (ipykernel)",
   "language": "python",
   "name": "python3"
  },
  "language_info": {
   "codemirror_mode": {
    "name": "ipython",
    "version": 3
   },
   "file_extension": ".py",
   "mimetype": "text/x-python",
   "name": "python",
   "nbconvert_exporter": "python",
   "pygments_lexer": "ipython3",
   "version": "3.8.0"
  }
 },
 "nbformat": 4,
 "nbformat_minor": 5
}
